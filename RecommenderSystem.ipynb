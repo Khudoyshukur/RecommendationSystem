{
 "cells": [
  {
   "cell_type": "code",
   "execution_count": 2,
   "id": "initial_id",
   "metadata": {
    "collapsed": true,
    "ExecuteTime": {
     "end_time": "2023-12-16T12:13:26.122674Z",
     "start_time": "2023-12-16T12:13:25.842118Z"
    }
   },
   "outputs": [],
   "source": [
    "import pandas as pd"
   ]
  },
  {
   "cell_type": "code",
   "execution_count": 3,
   "outputs": [
    {
     "data": {
      "text/plain": "       timestamp  visitorid event  itemid  transactionid\n0  1433221332117     257597  view  355908            NaN\n1  1433224214164     992329  view  248676            NaN\n2  1433221999827     111016  view  318965            NaN\n3  1433221955914     483717  view  253185            NaN\n4  1433221337106     951259  view  367447            NaN",
      "text/html": "<div>\n<style scoped>\n    .dataframe tbody tr th:only-of-type {\n        vertical-align: middle;\n    }\n\n    .dataframe tbody tr th {\n        vertical-align: top;\n    }\n\n    .dataframe thead th {\n        text-align: right;\n    }\n</style>\n<table border=\"1\" class=\"dataframe\">\n  <thead>\n    <tr style=\"text-align: right;\">\n      <th></th>\n      <th>timestamp</th>\n      <th>visitorid</th>\n      <th>event</th>\n      <th>itemid</th>\n      <th>transactionid</th>\n    </tr>\n  </thead>\n  <tbody>\n    <tr>\n      <th>0</th>\n      <td>1433221332117</td>\n      <td>257597</td>\n      <td>view</td>\n      <td>355908</td>\n      <td>NaN</td>\n    </tr>\n    <tr>\n      <th>1</th>\n      <td>1433224214164</td>\n      <td>992329</td>\n      <td>view</td>\n      <td>248676</td>\n      <td>NaN</td>\n    </tr>\n    <tr>\n      <th>2</th>\n      <td>1433221999827</td>\n      <td>111016</td>\n      <td>view</td>\n      <td>318965</td>\n      <td>NaN</td>\n    </tr>\n    <tr>\n      <th>3</th>\n      <td>1433221955914</td>\n      <td>483717</td>\n      <td>view</td>\n      <td>253185</td>\n      <td>NaN</td>\n    </tr>\n    <tr>\n      <th>4</th>\n      <td>1433221337106</td>\n      <td>951259</td>\n      <td>view</td>\n      <td>367447</td>\n      <td>NaN</td>\n    </tr>\n  </tbody>\n</table>\n</div>"
     },
     "execution_count": 3,
     "metadata": {},
     "output_type": "execute_result"
    }
   ],
   "source": [
    "# Load datasets\n",
    "# event might be 'view', 'transaction'. 'addtocart'\n",
    "events = pd.read_csv('./input/events.csv')\n",
    "events.head()"
   ],
   "metadata": {
    "collapsed": false,
    "ExecuteTime": {
     "end_time": "2023-12-16T12:13:28.222601Z",
     "start_time": "2023-12-16T12:13:27.685786Z"
    }
   },
   "id": "333d68802da5f388"
  },
  {
   "cell_type": "code",
   "execution_count": 4,
   "outputs": [
    {
     "name": "stdout",
     "output_type": "stream",
     "text": [
      "         visitor_id  item_id  view_count\n",
      "591991       388556   306289         308\n",
      "1930131     1272794   413901         233\n",
      "2075538     1369328   356339         212\n",
      "1238811      816229   396064         180\n",
      "1782370     1172198   414460         176\n",
      "...             ...      ...         ...\n",
      "577256       378812   328428           6\n",
      "2042380     1347019   343731           6\n",
      "637523       418408   235281           6\n",
      "468693       308826   459936           6\n",
      "1326555      873793   457717           6\n",
      "\n",
      "[10000 rows x 3 columns]\n"
     ]
    }
   ],
   "source": [
    "# Now, we want to convert the datasets to the following format\n",
    "# data = {\n",
    "#     'userId': [1, 1, 1, 2, 2, 3],\n",
    "#     'productId': ['A', 'B', 'C', 'A', 'B', 'C'],\n",
    "#     'view_count': [5, 3, 7, 2, 8, 6],\n",
    "# }\n",
    "\n",
    "# filter events first for only view transaction, so that later to calculate view_count\n",
    "events = events[events['event'].isin(['view'])]\n",
    "\n",
    "# Use group by to count occurrences of each event type for each visitor and item\n",
    "events_grouped = events.groupby(['visitorid', 'itemid', 'event']).size().unstack(fill_value=0).reset_index()\n",
    "\n",
    "# Rename columns\n",
    "events_grouped.columns = ['visitor_id', 'item_id', 'view_count']\n",
    "top_1000_records = events_grouped.sort_values(by='view_count', ascending=False).head(10000)\n",
    "events_grouped = top_1000_records\n",
    "print(events_grouped)\n"
   ],
   "metadata": {
    "collapsed": false,
    "ExecuteTime": {
     "end_time": "2023-12-16T12:13:37.483069Z",
     "start_time": "2023-12-16T12:13:36.254057Z"
    }
   },
   "id": "f9a350b263102bc9"
  },
  {
   "cell_type": "code",
   "execution_count": 5,
   "outputs": [],
   "source": [
    "from sklearn.preprocessing import MinMaxScaler\n",
    "from sklearn.metrics.pairwise import cosine_similarity\n",
    "# Creating the user-item matrix\n",
    "user_item_matrix = events_grouped.pivot_table(index='visitor_id', columns='item_id', values='view_count', fill_value=0)\n",
    "\n",
    "# Calculating cosine similarity between users\n",
    "user_similarity = cosine_similarity(user_item_matrix)\n",
    "user_similarity_df = pd.DataFrame(user_similarity, index=user_item_matrix.index, columns=user_item_matrix.index)\n",
    "\n",
    "# Function to recommend items based on similar users\n",
    "def recommend_items_for_user(visitor_id, top_n=3):\n",
    "    # Similar users\n",
    "    similar_users = user_similarity_df[visitor_id].sort_values(ascending=False).index[1:]\n",
    "\n",
    "    # Aggregating views from similar users\n",
    "    similar_users_views = user_item_matrix.loc[similar_users].sum().sort_values(ascending=False)\n",
    "\n",
    "    # Exclude items already viewed by the user\n",
    "    viewed_items = user_item_matrix.loc[visitor_id]\n",
    "    recommendations = similar_users_views[~similar_users_views.index.isin(viewed_items[viewed_items > 0].index)]\n",
    "\n",
    "    return recommendations.head(top_n).index.tolist()"
   ],
   "metadata": {
    "collapsed": false,
    "ExecuteTime": {
     "end_time": "2023-12-16T12:14:12.182012Z",
     "start_time": "2023-12-16T12:14:08.932997Z"
    }
   },
   "id": "a49ac6df7023627f"
  },
  {
   "cell_type": "code",
   "execution_count": 6,
   "outputs": [
    {
     "name": "stdout",
     "output_type": "stream",
     "text": [
      "[119736, 461686, 40870, 9877, 306289, 325310, 369447, 413901, 356339, 241555]\n"
     ]
    }
   ],
   "source": [
    "user_id = 816229\n",
    "recommending = recommend_items_for_user(user_id, 10)\n",
    "print(recommending)"
   ],
   "metadata": {
    "collapsed": false,
    "ExecuteTime": {
     "end_time": "2023-12-16T12:14:15.210763Z",
     "start_time": "2023-12-16T12:14:15.054864Z"
    }
   },
   "id": "f5db7201424c49a2"
  },
  {
   "cell_type": "code",
   "execution_count": null,
   "outputs": [],
   "source": [],
   "metadata": {
    "collapsed": false
   },
   "id": "710b112af0bafca0"
  }
 ],
 "metadata": {
  "kernelspec": {
   "display_name": "Python 3",
   "language": "python",
   "name": "python3"
  },
  "language_info": {
   "codemirror_mode": {
    "name": "ipython",
    "version": 2
   },
   "file_extension": ".py",
   "mimetype": "text/x-python",
   "name": "python",
   "nbconvert_exporter": "python",
   "pygments_lexer": "ipython2",
   "version": "2.7.6"
  }
 },
 "nbformat": 4,
 "nbformat_minor": 5
}
